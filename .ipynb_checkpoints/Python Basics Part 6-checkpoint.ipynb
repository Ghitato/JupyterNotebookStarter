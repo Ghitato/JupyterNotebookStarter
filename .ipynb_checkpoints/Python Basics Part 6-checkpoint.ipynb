{
 "cells": [
  {
   "cell_type": "markdown",
   "id": "57df2add",
   "metadata": {},
   "source": [
    "# Python Basics Part 6\n",
    "\n",
    "## 1. Working with Files"
   ]
  },
  {
   "cell_type": "code",
   "execution_count": 4,
   "id": "c0bdcb09",
   "metadata": {},
   "outputs": [],
   "source": [
    "#Write out our mission file (with keyword)\n",
    "#  Helps us work with reseources like file streams\n",
    "#  Handles exceptions and ensures stream is closed when no longer needed\n",
    "#Common way of using a placeholder variable to work with file when file is open\n",
    "#  Whenever we reference f we are referencing the .txt file\n",
    "with open(\"mission_journal.txt\", \"w\") as f:\n",
    "    f.write(\"The mission has commenced on May 22nd, 2023\")\n",
    "    f.write(\"Current Status: Normal\")"
   ]
  },
  {
   "cell_type": "code",
   "execution_count": 5,
   "id": "b594f16c",
   "metadata": {},
   "outputs": [
    {
     "name": "stdout",
     "output_type": "stream",
     "text": [
      "The mission has commenced on May 22nd, 2023Current Status: Normal\n"
     ]
    }
   ],
   "source": [
    "#Read from file \n",
    "with open(\"mission_journal.txt\", \"r\") as f:\n",
    "    file = f.read()\n",
    "\n",
    "print(file)"
   ]
  },
  {
   "cell_type": "code",
   "execution_count": 1,
   "id": "cb36cdac",
   "metadata": {},
   "outputs": [],
   "source": [
    "open??"
   ]
  },
  {
   "cell_type": "markdown",
   "id": "a12aa3bd",
   "metadata": {},
   "source": [
    "## 2. Error Handling"
   ]
  },
  {
   "cell_type": "code",
   "execution_count": 7,
   "id": "33d35ee3",
   "metadata": {},
   "outputs": [
    {
     "data": {
      "text/plain": [
       "{1, 2, 3, 4, 5, 6, 7, 8}"
      ]
     },
     "execution_count": 7,
     "metadata": {},
     "output_type": "execute_result"
    }
   ],
   "source": [
    "#Create a set\n",
    "new_set = {1, 2, 3, 4, 5, 6, 7, 8}\n",
    "new_set"
   ]
  },
  {
   "cell_type": "code",
   "execution_count": 12,
   "id": "7428bdbd",
   "metadata": {},
   "outputs": [
    {
     "name": "stdout",
     "output_type": "stream",
     "text": [
      "'set' object does not support item assignment\n",
      "Something went wrong with your code\n"
     ]
    }
   ],
   "source": [
    "#Try somethingusing the try keyword\n",
    "try:\n",
    "    #Run a piece of code\n",
    "    new_set[0] = 4\n",
    "#If we have an error this code will run\n",
    "#Exception is a reserved word\n",
    "except Exception as e:\n",
    "    #Print out something a little nicer for the user\n",
    "    print(e)\n",
    "    print(\"Something went wrong with your request\")"
   ]
  },
  {
   "cell_type": "markdown",
   "id": "75e7a007",
   "metadata": {},
   "source": [
    "## 3. Math Operations"
   ]
  },
  {
   "cell_type": "code",
   "execution_count": 1,
   "id": "fa29db8d",
   "metadata": {},
   "outputs": [],
   "source": [
    "math_value_1 = 1235456\n",
    "math_value_2 = 5678914"
   ]
  },
  {
   "cell_type": "code",
   "execution_count": 2,
   "id": "e751493b",
   "metadata": {},
   "outputs": [
    {
     "data": {
      "text/plain": [
       "6914370"
      ]
     },
     "execution_count": 2,
     "metadata": {},
     "output_type": "execute_result"
    }
   ],
   "source": [
    "# Addition\n",
    "math_value_1 + math_value_2"
   ]
  },
  {
   "cell_type": "code",
   "execution_count": 3,
   "id": "bee2b5c9",
   "metadata": {},
   "outputs": [
    {
     "data": {
      "text/plain": [
       "-4443458"
      ]
     },
     "execution_count": 3,
     "metadata": {},
     "output_type": "execute_result"
    }
   ],
   "source": [
    "# Subtraction \n",
    "math_value_1 - math_value_2 "
   ]
  },
  {
   "cell_type": "code",
   "execution_count": 4,
   "id": "b54b8c6a",
   "metadata": {},
   "outputs": [
    {
     "data": {
      "text/plain": [
       "4.596613719954414"
      ]
     },
     "execution_count": 4,
     "metadata": {},
     "output_type": "execute_result"
    }
   ],
   "source": [
    "# Division\n",
    "math_value_2 / math_value_1"
   ]
  },
  {
   "cell_type": "code",
   "execution_count": 5,
   "id": "43ba843e",
   "metadata": {},
   "outputs": [
    {
     "data": {
      "text/plain": [
       "4"
      ]
     },
     "execution_count": 5,
     "metadata": {},
     "output_type": "execute_result"
    }
   ],
   "source": [
    "# Dividing with the Integral Result\n",
    "math_value_2 // math_value_1\n",
    "# How many times math_value_2 goes into math_value_1 (does not give residual)"
   ]
  },
  {
   "cell_type": "code",
   "execution_count": 6,
   "id": "6b5a2984",
   "metadata": {},
   "outputs": [
    {
     "data": {
      "text/plain": [
       "737090"
      ]
     },
     "execution_count": 6,
     "metadata": {},
     "output_type": "execute_result"
    }
   ],
   "source": [
    "# Modulus / Modulo\n",
    "math_value_2 % math_value_1\n",
    "# Gives the residual"
   ]
  },
  {
   "cell_type": "code",
   "execution_count": 7,
   "id": "b91c42fd",
   "metadata": {},
   "outputs": [
    {
     "data": {
      "text/plain": [
       "737090"
      ]
     },
     "execution_count": 7,
     "metadata": {},
     "output_type": "execute_result"
    }
   ],
   "source": [
    "math_value_2 - math_value_1*4"
   ]
  },
  {
   "cell_type": "code",
   "execution_count": 8,
   "id": "f3fe283b",
   "metadata": {},
   "outputs": [
    {
     "data": {
      "text/plain": [
       "7016048374784"
      ]
     },
     "execution_count": 8,
     "metadata": {},
     "output_type": "execute_result"
    }
   ],
   "source": [
    "# Multiplication\n",
    "math_value_1 * math_value_2"
   ]
  },
  {
   "cell_type": "code",
   "execution_count": 9,
   "id": "4773c254",
   "metadata": {},
   "outputs": [
    {
     "data": {
      "text/plain": [
       "1885740153297698816"
      ]
     },
     "execution_count": 9,
     "metadata": {},
     "output_type": "execute_result"
    }
   ],
   "source": [
    "# Power\n",
    "math_value_1 ** 3"
   ]
  },
  {
   "cell_type": "code",
   "execution_count": 10,
   "id": "954783f2",
   "metadata": {},
   "outputs": [
    {
     "data": {
      "text/plain": [
       "1212121.79"
      ]
     },
     "execution_count": 10,
     "metadata": {},
     "output_type": "execute_result"
    }
   ],
   "source": [
    "# Round \n",
    "round(1212121.789123456, 2)"
   ]
  },
  {
   "cell_type": "code",
   "execution_count": 11,
   "id": "81b96551",
   "metadata": {},
   "outputs": [
    {
     "data": {
      "text/plain": [
       "91123154987978"
      ]
     },
     "execution_count": 11,
     "metadata": {},
     "output_type": "execute_result"
    }
   ],
   "source": [
    "# Absolute Values\n",
    "abs(-91123154987978)"
   ]
  },
  {
   "cell_type": "code",
   "execution_count": 12,
   "id": "596f099d",
   "metadata": {},
   "outputs": [
    {
     "data": {
      "text/plain": [
       "121"
      ]
     },
     "execution_count": 12,
     "metadata": {},
     "output_type": "execute_result"
    }
   ],
   "source": [
    "# Minimum - smallest value \n",
    "min(121,8989,1212,5464,8974231,2121)"
   ]
  },
  {
   "cell_type": "code",
   "execution_count": 13,
   "id": "9ef7a0ed",
   "metadata": {},
   "outputs": [
    {
     "data": {
      "text/plain": [
       "8974231"
      ]
     },
     "execution_count": 13,
     "metadata": {},
     "output_type": "execute_result"
    }
   ],
   "source": [
    "# Maximum\n",
    "max(121,8989,1212,5464,8974231,2121)"
   ]
  },
  {
   "cell_type": "code",
   "execution_count": 14,
   "id": "c3513ad7",
   "metadata": {},
   "outputs": [],
   "source": [
    "# Import the math package\n",
    "import math"
   ]
  },
  {
   "cell_type": "code",
   "execution_count": 15,
   "id": "cdb86fdc",
   "metadata": {},
   "outputs": [
    {
     "data": {
      "text/plain": [
       "5.0"
      ]
     },
     "execution_count": 15,
     "metadata": {},
     "output_type": "execute_result"
    }
   ],
   "source": [
    "math.sqrt(25)"
   ]
  },
  {
   "cell_type": "code",
   "execution_count": 16,
   "id": "a30b1451",
   "metadata": {},
   "outputs": [],
   "source": [
    "math.sqrt??"
   ]
  },
  {
   "cell_type": "code",
   "execution_count": null,
   "id": "6f1b3c03",
   "metadata": {},
   "outputs": [],
   "source": []
  },
  {
   "cell_type": "code",
   "execution_count": null,
   "id": "85f4f773",
   "metadata": {},
   "outputs": [],
   "source": []
  },
  {
   "cell_type": "code",
   "execution_count": null,
   "id": "62340ecb",
   "metadata": {},
   "outputs": [],
   "source": []
  },
  {
   "cell_type": "code",
   "execution_count": null,
   "id": "634d0652",
   "metadata": {},
   "outputs": [],
   "source": []
  },
  {
   "cell_type": "code",
   "execution_count": null,
   "id": "04f1c5f3",
   "metadata": {},
   "outputs": [],
   "source": []
  },
  {
   "cell_type": "code",
   "execution_count": null,
   "id": "86f4eefe",
   "metadata": {},
   "outputs": [],
   "source": []
  }
 ],
 "metadata": {
  "kernelspec": {
   "display_name": "Python 3 (ipykernel)",
   "language": "python",
   "name": "python3"
  },
  "language_info": {
   "codemirror_mode": {
    "name": "ipython",
    "version": 3
   },
   "file_extension": ".py",
   "mimetype": "text/x-python",
   "name": "python",
   "nbconvert_exporter": "python",
   "pygments_lexer": "ipython3",
   "version": "3.10.9"
  }
 },
 "nbformat": 4,
 "nbformat_minor": 5
}
