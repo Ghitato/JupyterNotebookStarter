{
 "cells": [
  {
   "cell_type": "markdown",
   "id": "aebf5fef",
   "metadata": {},
   "source": [
    "# Python Basics Part 2"
   ]
  },
  {
   "cell_type": "markdown",
   "id": "b66f59f3",
   "metadata": {},
   "source": [
    "## 1. Conditions and Logic"
   ]
  },
  {
   "cell_type": "code",
   "execution_count": 3,
   "id": "158bcc94",
   "metadata": {
    "scrolled": true
   },
   "outputs": [
    {
     "name": "stdout",
     "output_type": "stream",
     "text": [
      "What's up Neil\n"
     ]
    }
   ],
   "source": [
    "#Applying logic using the IF statement\n",
    "name  = \"Neil Armstrong\"\n",
    "if name == \"Neil Armstrong\":\n",
    "    print(\"What's up Neil\")\n",
    "else:\n",
    "    print(\"You are not Neil\")"
   ]
  },
  {
   "cell_type": "code",
   "execution_count": 13,
   "id": "37932d89",
   "metadata": {},
   "outputs": [
    {
     "name": "stdout",
     "output_type": "stream",
     "text": [
      "The test probability -0.49 is LESS than 0\n"
     ]
    }
   ],
   "source": [
    "test_probability = -0.49\n",
    "threshold_probability = 0.5\n",
    "\n",
    "if test_probability >= threshold_probability:\n",
    "    print(\"The test probability\", test_probability, \"is greater than the\", threshold_probability)\n",
    "#Return an ERROR if probability is lower than 0\n",
    "elif test_probability < 0:\n",
    "    print(\"The test probability\", test_probability, \"is LESS than 0\")\n",
    "#Anything else\n",
    "else:\n",
    "    print(\"The test probability\", test_probability, \"is NOT greater than\", threshold_probability)"
   ]
  },
  {
   "cell_type": "code",
   "execution_count": 18,
   "id": "10518280",
   "metadata": {},
   "outputs": [
    {
     "name": "stdout",
     "output_type": "stream",
     "text": [
      "True\n",
      "Joey Smoey's here\n"
     ]
    }
   ],
   "source": [
    "#Create a list of names\n",
    "names = [\"Neil Armstrong\", \"Buzz Aldrin\", \"Sally Ride\", \"Joey Smoey\"]\n",
    "#The in operators allows us to check if a value is in a sequence or container such as a list, tuple, or string.\n",
    "print(\"Buzz Aldrin\" in names) #This will print True or False\n",
    "if \"Joey Smoey\" in names:\n",
    "    print('Joey Smoey\\'s here') #Use backslash to disregard a quote symbol\n"
   ]
  },
  {
   "cell_type": "markdown",
   "id": "3294854b",
   "metadata": {},
   "source": [
    "## 2. Loops"
   ]
  },
  {
   "cell_type": "code",
   "execution_count": 33,
   "id": "00df2d15",
   "metadata": {},
   "outputs": [
    {
     "name": "stdout",
     "output_type": "stream",
     "text": [
      "Joe\n",
      "Jill\n",
      "Mike\n",
      "Jim\n",
      "Marcus\n",
      "Mary\n",
      "\n",
      "\n",
      "JoeJoe\n",
      "JillJill\n",
      "MikeMike\n",
      "JimJim\n",
      "MarcusMarcus\n",
      "MaryMary\n",
      "\n",
      "\n",
      "Sup Joe\n",
      "Jill you are not Joe\n"
     ]
    }
   ],
   "source": [
    "#This is an example of a for loop\n",
    "sample_names = [\"Joe\", \"Jill\", \"Mike\", \"Jim\", \"Marcus\", \"Mary\"]\n",
    "#name is the single value that we are looping through, it could be named almost anything else\n",
    "for name in sample_names:\n",
    "    print(name)\n",
    "    \n",
    "print (\"\\n\")\n",
    "\n",
    "for n in sample_names:\n",
    "    print(n + n)\n",
    "    \n",
    "print (\"\\n\")\n",
    "\n",
    "for namey in sample_names:\n",
    "    if namey == \"Joe\":\n",
    "        print(\"Sup Joe\")\n",
    "    elif name != \"Joe\":\n",
    "        print(namey, \"you are not Joe\")\n",
    "        break\n",
    "        "
   ]
  },
  {
   "cell_type": "code",
   "execution_count": 35,
   "id": "332315d6",
   "metadata": {},
   "outputs": [
    {
     "name": "stdout",
     "output_type": "stream",
     "text": [
      "10\n",
      "11\n",
      "12\n",
      "13\n",
      "14\n",
      "15\n",
      "16\n",
      "17\n",
      "18\n",
      "19\n",
      "20\n"
     ]
    }
   ],
   "source": [
    "#Loop x number of times\n",
    "for i in range(10, 21):\n",
    "    print(i)"
   ]
  },
  {
   "cell_type": "code",
   "execution_count": 4,
   "id": "0885f757",
   "metadata": {},
   "outputs": [
    {
     "name": "stdout",
     "output_type": "stream",
     "text": [
      "Shuttle # 0  Launched\n",
      "Shuttle 1 Launched\n",
      "Shuttle # 1  Launched\n",
      "Shuttle 2 Launched\n",
      "Shuttle # 2  Launched\n",
      "Shuttle 3 Launched\n",
      "Shuttle # 3  Launched\n",
      "Shuttle 4 Launched\n",
      "Shuttle # 4  Launched\n",
      "Shuttle 5 Launched\n",
      "All shuttles have been launched\n"
     ]
    }
   ],
   "source": [
    "#This an example of a while loop\n",
    "launched_shuttles = 0\n",
    "total_shuttles = 5\n",
    "\n",
    "#while True is an infinite loop, so it is important to have an end condition or a break\n",
    "while True:\n",
    "    print(\"Shuttle #\", launched_shuttles, \" Launched\")\n",
    "    #String Formating \n",
    "    print(\"Shuttle {} Launched\".format(launched_shuttles + 1))\n",
    "    launched_shuttles += 1\n",
    "    \n",
    "    if launched_shuttles == total_shuttles:\n",
    "        print(\"All shuttles have been launched\")\n",
    "        break"
   ]
  },
  {
   "cell_type": "code",
   "execution_count": 6,
   "id": "92be094b",
   "metadata": {},
   "outputs": [],
   "source": [
    "#Looping through a dictionary\n",
    "astronaut = {\n",
    "    \"name\": \"Joe\",\n",
    "    \"suit_size\": \"medium\",\n",
    "    \"allergies\": \"peanuts\"\n",
    "}"
   ]
  },
  {
   "cell_type": "code",
   "execution_count": 7,
   "id": "2d86032f",
   "metadata": {},
   "outputs": [
    {
     "name": "stdout",
     "output_type": "stream",
     "text": [
      "name\n",
      "suit_size\n",
      "allergies\n"
     ]
    }
   ],
   "source": [
    "for key in astronaut.keys():\n",
    "    print(key)"
   ]
  },
  {
   "cell_type": "code",
   "execution_count": 8,
   "id": "f4315136",
   "metadata": {},
   "outputs": [
    {
     "name": "stdout",
     "output_type": "stream",
     "text": [
      "Joe\n",
      "medium\n",
      "peanuts\n"
     ]
    }
   ],
   "source": [
    "for value in astronaut.values():\n",
    "    print(value)"
   ]
  },
  {
   "cell_type": "code",
   "execution_count": 11,
   "id": "a4528156",
   "metadata": {},
   "outputs": [
    {
     "name": "stdout",
     "output_type": "stream",
     "text": [
      "name : Joe\n",
      "suit_size : medium\n",
      "allergies : peanuts\n"
     ]
    }
   ],
   "source": [
    "for k, v in astronaut.items():\n",
    "    print(k, \":\", v)"
   ]
  },
  {
   "cell_type": "code",
   "execution_count": 14,
   "id": "76e6b5e0",
   "metadata": {},
   "outputs": [
    {
     "name": "stdout",
     "output_type": "stream",
     "text": [
      "['Nickel', 'Zinc', 'Silver', 'Tin']\n",
      "[1, 4, 9, 16, 25]\n"
     ]
    }
   ],
   "source": [
    "#list comprehension\n",
    "\n",
    "metal_list = [\"nickel\", \"zinc\", \"silver\", \"tin\"]\n",
    "list_of_numbers = [1, 2, 3, 4, 5]\n",
    "\n",
    "#loop through each value in a list and return something that is being transformed in a new list\n",
    "updated_metal = [metal.title() for metal in metal_list]\n",
    "print(updated_metal)\n",
    "\n",
    "squares = [n**2 for n in list_of_numbers]\n",
    "print(squares)"
   ]
  },
  {
   "cell_type": "code",
   "execution_count": null,
   "id": "6baa7279",
   "metadata": {},
   "outputs": [],
   "source": []
  },
  {
   "cell_type": "code",
   "execution_count": null,
   "id": "383223d5",
   "metadata": {},
   "outputs": [],
   "source": []
  },
  {
   "cell_type": "code",
   "execution_count": null,
   "id": "a0f7cda7",
   "metadata": {},
   "outputs": [],
   "source": []
  }
 ],
 "metadata": {
  "kernelspec": {
   "display_name": "Python 3 (ipykernel)",
   "language": "python",
   "name": "python3"
  },
  "language_info": {
   "codemirror_mode": {
    "name": "ipython",
    "version": 3
   },
   "file_extension": ".py",
   "mimetype": "text/x-python",
   "name": "python",
   "nbconvert_exporter": "python",
   "pygments_lexer": "ipython3",
   "version": "3.10.9"
  }
 },
 "nbformat": 4,
 "nbformat_minor": 5
}
