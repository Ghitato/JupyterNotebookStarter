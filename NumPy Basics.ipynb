{
 "cells": [
  {
   "cell_type": "markdown",
   "id": "6a35d58a",
   "metadata": {},
   "source": [
    "# NumPy Basics Tutorial"
   ]
  },
  {
   "cell_type": "code",
   "execution_count": 1,
   "id": "0aca6049",
   "metadata": {},
   "outputs": [],
   "source": [
    "import numpy as np\n",
    "import sys\n",
    "\n",
    "#https://www.youtube.com/watch?v=QUT1VHiLmmI\n",
    "#Left off at: 0:18:30\n",
    "\n",
    "#NumPy is a multidimensional array library\n",
    "# Store all sorts of data in 1D, 2D, 3D, 4D... arrays\n",
    "#Why is NumPy over lists\n",
    "# lists are slow, whilst NumPy is fast\n",
    "# NumPy uses fixed types\n",
    "\n",
    "#NumPy\n",
    "# int8 = 1 byte, int16 = 2 bytes, int32 = 4 bytes\n",
    "#Lists (bascially require a lot more space)\n",
    "# Size\n",
    "# Reference Count\n",
    "# Object Type\n",
    "# Object Value\n",
    "\n",
    "#NumPy (contiguous memory)\n",
    "# Imagine all the elements of the list being next to each other in memory as opposed to the pointer strucutre in lists\n",
    "# SIMD (single instruction multiple data) Vector Processing\n",
    "# Effective cache utilization\n",
    "\n",
    "#DIFFERENCES\n",
    "# NumPy\n",
    "#  Insertion, Deletion, Appending, Concatenation etc.\n",
    "#  LOTS More\n",
    "# Lists\n",
    "#  Insertion, Deletion, Appending, Concatenation etc."
   ]
  },
  {
   "cell_type": "markdown",
   "id": "56f0e405",
   "metadata": {},
   "source": [
    "## The Basics"
   ]
  },
  {
   "cell_type": "code",
   "execution_count": 14,
   "id": "f56951f5",
   "metadata": {},
   "outputs": [
    {
     "name": "stdout",
     "output_type": "stream",
     "text": [
      "Matrix a: [1 2 3] Matrix b: [4 5 6]\n",
      "Matrix c: \n",
      " [[10 11 12]\n",
      " [13 14 15]]\n",
      "Matrix a dimensions: 1 Matrix b dimensions: 1\n",
      "Matrix c dimensions: 2\n",
      "Matrix a shape (r,c): (3,) Matrix b shape (r,c): (3,)\n",
      "Matrix c shape (r,c): (2, 3)\n",
      "Matrix a type: int8 Matrix b type: int8\n",
      "Matrix c dtype: int8\n",
      "Matrix a size (bytes): 1 Matrix b total size: 3\n",
      "Matrix c nbytes: 6\n"
     ]
    }
   ],
   "source": [
    "#A 1D array\n",
    "a = np.array([1, 2, 3], dtype = \"int8\")\n",
    "b = np.array([4, 5, 6], dtype = \"int8\")\n",
    "\n",
    "\n",
    "#A 2D array\n",
    "c = np.array([[10, 11, 12], [13, 14, 15]], dtype = \"int8\")\n",
    "\n",
    "\n",
    "#Print Matrix\n",
    "print(\"Matrix a:\", a, \"Matrix b:\", b)\n",
    "print(\"Matrix c: \\n\", c)\n",
    "\n",
    "#Get Dimensions\n",
    "print(\"Matrix a dimensions:\", a.ndim, \"Matrix b dimensions:\", b.ndim)\n",
    "print(\"Matrix c dimensions:\", c.ndim)\n",
    "\n",
    "#Get Shape\n",
    "print(\"Matrix a shape (r,c):\", a.shape, \"Matrix b shape (r,c):\", b.shape)\n",
    "print(\"Matrix c shape (r,c):\", c.shape)\n",
    "\n",
    "\n",
    "#Get Type\n",
    "print(\"Matrix a type:\", a.dtype, \"Matrix b type:\", b.dtype)\n",
    "print(\"Matrix c dtype:\", c.dtype)\n",
    "\n",
    "#Get Size or Total Size\n",
    "print(\"Matrix a size (bytes):\", a.itemsize, \"Matrix b total size:\", b.size * b.itemsize)\n",
    "print(\"Matrix c nbytes:\", c.nbytes)"
   ]
  },
  {
   "cell_type": "markdown",
   "id": "3378755e",
   "metadata": {},
   "source": [
    "## Accessing/Changing Specific Elements, Rows, Columns, etc"
   ]
  },
  {
   "cell_type": "code",
   "execution_count": 25,
   "id": "9d0c3ed6",
   "metadata": {},
   "outputs": [
    {
     "name": "stdout",
     "output_type": "stream",
     "text": [
      "Array d: \n",
      " [[ 1  2  3  4  5  6  7]\n",
      " [ 8  9 10 11 12 13 14]] \n",
      "Shape of array d (r,c): \n",
      " (2, 7)\n"
     ]
    }
   ],
   "source": [
    "d = np.array([[1, 2, 3, 4, 5, 6, 7], [8, 9, 10, 11, 12, 13, 14]])\n",
    "print(\"Array d: \\n\", d, \"\\nShape of array d (r,c): \\n\", d.shape)"
   ]
  },
  {
   "cell_type": "code",
   "execution_count": 28,
   "id": "ad58527b",
   "metadata": {},
   "outputs": [
    {
     "name": "stdout",
     "output_type": "stream",
     "text": [
      "13\n",
      "[ 8  9 10 11 12 13 14]\n",
      "[2 9]\n"
     ]
    }
   ],
   "source": [
    "#Get a specific element [row, column] or [r, c]\n",
    "\n",
    "# Get the number 13 from array d\n",
    "print(d[1, 5])\n",
    "\n",
    "# Get a specific column\n",
    "print(d[1, :])\n",
    "\n",
    "# Get a specific row\n",
    "print(d[:, 1])\n"
   ]
  },
  {
   "cell_type": "code",
   "execution_count": null,
   "id": "91de849c",
   "metadata": {},
   "outputs": [],
   "source": []
  },
  {
   "cell_type": "code",
   "execution_count": null,
   "id": "063d310a",
   "metadata": {},
   "outputs": [],
   "source": []
  },
  {
   "cell_type": "code",
   "execution_count": null,
   "id": "d04d55fb",
   "metadata": {},
   "outputs": [],
   "source": []
  },
  {
   "cell_type": "markdown",
   "id": "ec76686d",
   "metadata": {},
   "source": [
    "## Initializing Different Types of Arrays"
   ]
  },
  {
   "cell_type": "code",
   "execution_count": null,
   "id": "12ea0fcf",
   "metadata": {},
   "outputs": [],
   "source": []
  },
  {
   "cell_type": "code",
   "execution_count": null,
   "id": "c705ddfd",
   "metadata": {},
   "outputs": [],
   "source": []
  },
  {
   "cell_type": "code",
   "execution_count": null,
   "id": "c67a23f9",
   "metadata": {},
   "outputs": [],
   "source": []
  },
  {
   "cell_type": "code",
   "execution_count": null,
   "id": "4844cf41",
   "metadata": {},
   "outputs": [],
   "source": []
  },
  {
   "cell_type": "code",
   "execution_count": null,
   "id": "69db1e4c",
   "metadata": {},
   "outputs": [],
   "source": []
  },
  {
   "cell_type": "code",
   "execution_count": null,
   "id": "26a881e8",
   "metadata": {},
   "outputs": [],
   "source": []
  },
  {
   "cell_type": "code",
   "execution_count": null,
   "id": "4e236258",
   "metadata": {},
   "outputs": [],
   "source": []
  },
  {
   "cell_type": "code",
   "execution_count": null,
   "id": "b6dbaba2",
   "metadata": {},
   "outputs": [],
   "source": []
  },
  {
   "cell_type": "code",
   "execution_count": null,
   "id": "08d8ecb4",
   "metadata": {},
   "outputs": [],
   "source": []
  },
  {
   "cell_type": "markdown",
   "id": "fbb42aff",
   "metadata": {},
   "source": [
    "## Mathematics"
   ]
  },
  {
   "cell_type": "code",
   "execution_count": null,
   "id": "78ece3d0",
   "metadata": {},
   "outputs": [],
   "source": []
  },
  {
   "cell_type": "code",
   "execution_count": null,
   "id": "e545b972",
   "metadata": {},
   "outputs": [],
   "source": []
  },
  {
   "cell_type": "code",
   "execution_count": null,
   "id": "2bc8d05a",
   "metadata": {},
   "outputs": [],
   "source": []
  },
  {
   "cell_type": "code",
   "execution_count": null,
   "id": "23309f23",
   "metadata": {},
   "outputs": [],
   "source": []
  },
  {
   "cell_type": "code",
   "execution_count": null,
   "id": "fa28380e",
   "metadata": {},
   "outputs": [],
   "source": []
  },
  {
   "cell_type": "code",
   "execution_count": null,
   "id": "af99094f",
   "metadata": {},
   "outputs": [],
   "source": []
  },
  {
   "cell_type": "markdown",
   "id": "68e83ab8",
   "metadata": {},
   "source": [
    "## Reorganizing Arrays"
   ]
  },
  {
   "cell_type": "code",
   "execution_count": null,
   "id": "1b9cba44",
   "metadata": {},
   "outputs": [],
   "source": []
  },
  {
   "cell_type": "code",
   "execution_count": null,
   "id": "c8a44639",
   "metadata": {},
   "outputs": [],
   "source": []
  },
  {
   "cell_type": "code",
   "execution_count": null,
   "id": "8a199972",
   "metadata": {},
   "outputs": [],
   "source": []
  },
  {
   "cell_type": "code",
   "execution_count": null,
   "id": "bd764f16",
   "metadata": {},
   "outputs": [],
   "source": []
  },
  {
   "cell_type": "code",
   "execution_count": null,
   "id": "c7241a8f",
   "metadata": {},
   "outputs": [],
   "source": []
  },
  {
   "cell_type": "markdown",
   "id": "4930d4ae",
   "metadata": {},
   "source": [
    "## Miscellaneous"
   ]
  },
  {
   "cell_type": "code",
   "execution_count": null,
   "id": "6102b0ee",
   "metadata": {},
   "outputs": [],
   "source": []
  },
  {
   "cell_type": "code",
   "execution_count": null,
   "id": "96b721b0",
   "metadata": {},
   "outputs": [],
   "source": []
  },
  {
   "cell_type": "code",
   "execution_count": null,
   "id": "3ddbc633",
   "metadata": {},
   "outputs": [],
   "source": []
  },
  {
   "cell_type": "code",
   "execution_count": null,
   "id": "396d5876",
   "metadata": {},
   "outputs": [],
   "source": []
  }
 ],
 "metadata": {
  "kernelspec": {
   "display_name": "Python 3 (ipykernel)",
   "language": "python",
   "name": "python3"
  },
  "language_info": {
   "codemirror_mode": {
    "name": "ipython",
    "version": 3
   },
   "file_extension": ".py",
   "mimetype": "text/x-python",
   "name": "python",
   "nbconvert_exporter": "python",
   "pygments_lexer": "ipython3",
   "version": "3.10.9"
  }
 },
 "nbformat": 4,
 "nbformat_minor": 5
}
