{
 "cells": [
  {
   "cell_type": "markdown",
   "id": "aebf5fef",
   "metadata": {},
   "source": [
    "# Python Basics"
   ]
  },
  {
   "cell_type": "markdown",
   "id": "b66f59f3",
   "metadata": {},
   "source": [
    "## 0. Variables"
   ]
  },
  {
   "cell_type": "code",
   "execution_count": 6,
   "id": "158bcc94",
   "metadata": {},
   "outputs": [
    {
     "data": {
      "text/plain": [
       "'Joe'"
      ]
     },
     "execution_count": 6,
     "metadata": {},
     "output_type": "execute_result"
    }
   ],
   "source": [
    "space_name = \"Joe\"\n",
    "space_name"
   ]
  },
  {
   "cell_type": "code",
   "execution_count": 16,
   "id": "6a4d8ab8",
   "metadata": {},
   "outputs": [],
   "source": [
    "space_num = 12345\n",
    "space_num2 = 67898"
   ]
  },
  {
   "cell_type": "code",
   "execution_count": 12,
   "id": "28a8e542",
   "metadata": {},
   "outputs": [],
   "source": [
    "space_float = 12345.01"
   ]
  },
  {
   "cell_type": "code",
   "execution_count": 17,
   "id": "8d8be86a",
   "metadata": {},
   "outputs": [
    {
     "name": "stdout",
     "output_type": "stream",
     "text": [
      "Joe 12345 67898 12345.01\n"
     ]
    }
   ],
   "source": [
    "print(space_name, space_num, space_num2, space_float)"
   ]
  },
  {
   "cell_type": "code",
   "execution_count": 21,
   "id": "6942e377",
   "metadata": {},
   "outputs": [
    {
     "data": {
      "text/plain": [
       "float"
      ]
     },
     "execution_count": 21,
     "metadata": {},
     "output_type": "execute_result"
    }
   ],
   "source": [
    "type(space_float)"
   ]
  },
  {
   "cell_type": "markdown",
   "id": "43e1f07a",
   "metadata": {},
   "source": [
    "## 1. Data Types"
   ]
  },
  {
   "cell_type": "code",
   "execution_count": 23,
   "id": "8f2af4c6",
   "metadata": {},
   "outputs": [
    {
     "name": "stdout",
     "output_type": "stream",
     "text": [
      "Pluto\n"
     ]
    },
    {
     "data": {
      "text/plain": [
       "str"
      ]
     },
     "execution_count": 23,
     "metadata": {},
     "output_type": "execute_result"
    }
   ],
   "source": [
    "#This is declaring a variable as a string\n",
    "#Can also typecast/convert as str()\n",
    "string_variable = 'Pluto'\n",
    "print(string_variable)\n",
    "type(string_variable)"
   ]
  },
  {
   "cell_type": "code",
   "execution_count": 29,
   "id": "e3cb76e5",
   "metadata": {},
   "outputs": [
    {
     "name": "stdout",
     "output_type": "stream",
     "text": [
      "1\n"
     ]
    },
    {
     "data": {
      "text/plain": [
       "int"
      ]
     },
     "execution_count": 29,
     "metadata": {},
     "output_type": "execute_result"
    }
   ],
   "source": [
    "#This is declaring a variable as an integer\n",
    "#Can also typecast/convert as int()\n",
    "integer_variable = 1\n",
    "print(integer_variable)\n",
    "type(integer_variable)"
   ]
  },
  {
   "cell_type": "code",
   "execution_count": 28,
   "id": "815bff9b",
   "metadata": {},
   "outputs": [
    {
     "data": {
      "text/plain": [
       "11"
      ]
     },
     "execution_count": 28,
     "metadata": {},
     "output_type": "execute_result"
    }
   ],
   "source": [
    "integer_variable + 10"
   ]
  },
  {
   "cell_type": "code",
   "execution_count": 30,
   "id": "b6bb49fb",
   "metadata": {},
   "outputs": [
    {
     "name": "stdout",
     "output_type": "stream",
     "text": [
      "1.1\n"
     ]
    },
    {
     "data": {
      "text/plain": [
       "float"
      ]
     },
     "execution_count": 30,
     "metadata": {},
     "output_type": "execute_result"
    }
   ],
   "source": [
    "#This is declaring a variable as a float\n",
    "#Can also typecast/convert as float()\n",
    "float_variable = 1.1\n",
    "print(float_variable)\n",
    "type(float_variable)"
   ]
  },
  {
   "cell_type": "code",
   "execution_count": 33,
   "id": "e216f208",
   "metadata": {},
   "outputs": [
    {
     "name": "stdout",
     "output_type": "stream",
     "text": [
      "True\n",
      "False\n",
      "1.1\n"
     ]
    },
    {
     "data": {
      "text/plain": [
       "float"
      ]
     },
     "execution_count": 33,
     "metadata": {},
     "output_type": "execute_result"
    }
   ],
   "source": [
    "#This is declaring a variable as a boolean (True or False)\n",
    "#Can also typecast/convert as boolean()\n",
    "boolean_variable = True\n",
    "print(boolean_variable)\n",
    "type(boolean_variable)\n",
    "\n",
    "boolean_variable2 = bool(0)\n",
    "print(boolean_variable2)\n",
    "type(boolean_variable2)"
   ]
  },
  {
   "cell_type": "code",
   "execution_count": 2,
   "id": "f999e1ce",
   "metadata": {
    "scrolled": true
   },
   "outputs": [
    {
     "name": "stdout",
     "output_type": "stream",
     "text": [
      "[1, 2, 3, 4, 5, 6.1, 7.2, 8.3]\n",
      "<class 'list'>\n",
      "1\n",
      "[1, 12, 3, 4, 5, 6.1, 7.2, 8.3]\n"
     ]
    }
   ],
   "source": [
    "#This is declaring a variable as a list\n",
    "list_variable = [1, 2, 3, 4, 5, 6.1, 7.2, 8.3]\n",
    "print(list_variable)\n",
    "print(type(list_variable))\n",
    "print(list_variable[0])\n",
    "list_variable[1] = 12\n",
    "print(list_variable)"
   ]
  },
  {
   "cell_type": "code",
   "execution_count": 36,
   "id": "73b3b3ba",
   "metadata": {},
   "outputs": [
    {
     "name": "stdout",
     "output_type": "stream",
     "text": [
      "(1, 2, 3, 4, 5, 6.1, 7.2, 8.3)\n"
     ]
    },
    {
     "data": {
      "text/plain": [
       "tuple"
      ]
     },
     "execution_count": 36,
     "metadata": {},
     "output_type": "execute_result"
    }
   ],
   "source": [
    "#This is declaring a variable as a tuple\n",
    "#IMMUTABLE\n",
    "#Usually for creating coordinate values\n",
    "tuple_variable = (1, 2, 3, 4, 5, 6.1, 7.2, 8.3)\n",
    "print(tuple_variable)\n",
    "type(tuple_variable)"
   ]
  },
  {
   "cell_type": "code",
   "execution_count": 3,
   "id": "f4e74bbe",
   "metadata": {},
   "outputs": [
    {
     "name": "stdout",
     "output_type": "stream",
     "text": [
      "{1, 2, 3, 4, 5, 6.1, 7.2, 8.3}\n",
      "<class 'set'>\n"
     ]
    }
   ],
   "source": [
    "#This is declaring a variable as a set\n",
    "#Like a tuple (immutable) but cannot contain duplicate values\n",
    "set_variable = {1, 2, 3, 4, 5, 6.1, 7.2, 8.3}\n",
    "print(set_variable)\n",
    "print(type(set_variable))"
   ]
  },
  {
   "cell_type": "code",
   "execution_count": 6,
   "id": "5e5c6803",
   "metadata": {},
   "outputs": [
    {
     "name": "stdout",
     "output_type": "stream",
     "text": [
      "[1, 2, 3, 1, 2, 3, 4, 5, 6, 7, 7]\n",
      "{1, 2, 3, 4, 5, 6, 7}\n",
      "[1, 2, 3, 4, 5, 6, 7]\n",
      "[10, 11, 12, 13]\n"
     ]
    }
   ],
   "source": [
    "#Typecast a list to a set then back to a set to get rid of any duplicates\n",
    "sample_list = [1, 2, 3, 1, 2, 3, 4, 5, 6, 7, 7]\n",
    "print(sample_list)\n",
    "sample_set = set(sample_list)\n",
    "print(sample_set)\n",
    "typecast_list = list(sample_set)\n",
    "print(typecast_list)\n",
    "\n",
    "#Can do this instead \n",
    "sample_list2 = [10, 11, 12, 13, 11]\n",
    "print(list(set(sample_list2)))"
   ]
  },
  {
   "cell_type": "code",
   "execution_count": 4,
   "id": "e54f77d4",
   "metadata": {},
   "outputs": [
    {
     "name": "stdout",
     "output_type": "stream",
     "text": [
      "<class 'dict'>\n",
      "{'name': 'George', 'fave_colour': 'blue', 'fave_num': 39}\n",
      "George\n",
      "blue\n"
     ]
    }
   ],
   "source": [
    "#This is declaring a variable as a dictionary\n",
    "sample_dictionary = {'name':'George', 'fave_colour':'blue', 'fave_num':39}\n",
    "print(type(sample_dictionary))\n",
    "print(sample_dictionary)\n",
    "#We pass in the key to output the value\n",
    "print(sample_dictionary['name'])\n",
    "print(sample_dictionary['fave_colour'])"
   ]
  },
  {
   "cell_type": "markdown",
   "id": "438e65e1",
   "metadata": {},
   "source": [
    "## 2. Lists (In More Detail -> CRUD)"
   ]
  },
  {
   "cell_type": "code",
   "execution_count": 6,
   "id": "a62e40bc",
   "metadata": {},
   "outputs": [],
   "source": [
    "#Create\n",
    "names = [\"Neil Armstrong\", \"Buzz Aldrin\", \"Sally Ride\", \"Yuri Gagarin\", \"George Sau\"]"
   ]
  },
  {
   "cell_type": "code",
   "execution_count": 8,
   "id": "7012217c",
   "metadata": {},
   "outputs": [
    {
     "name": "stdout",
     "output_type": "stream",
     "text": [
      "['Neil Armstrong', 'Buzz Aldrin', 'Sally Ride', 'Yuri Gagarin', 'George Sau']\n",
      "Neil Armstrong\n",
      "George Sau\n",
      "5\n"
     ]
    }
   ],
   "source": [
    "#Read\n",
    "print(names)\n",
    "print(names[0])\n",
    "print(names[-1])\n",
    "#Find the length of a list with len()\n",
    "print(len(names))"
   ]
  },
  {
   "cell_type": "code",
   "execution_count": 16,
   "id": "76ef96cb",
   "metadata": {
    "scrolled": true
   },
   "outputs": [
    {
     "name": "stdout",
     "output_type": "stream",
     "text": [
      "['Neil Armstrong', 'Buzz Aldrin', 'Sally Ride', 'Yuri Gagarin', 'Joe Smoe', 'Joe Smoe', 'Joe Smoe', 'Joe Smoe']\n",
      "['Neil Armstrong', 'Buzz Aldrin', 'Sally Ride', 'Yuri Gagarin', 'Joe Smoe', 'Joe Smoe', 'Joe Smoe', 'Joe Smoe', 'George Sau']\n",
      "['Neil Armstrong', 'Luke Sky', 'Buzz Aldrin', 'Sally Ride', 'Yuri Gagarin', 'Joe Smoe', 'Joe Smoe', 'Joe Smoe', 'Joe Smoe', 'George Sau']\n"
     ]
    }
   ],
   "source": [
    "#Update\n",
    "names[-1] = \"Joe Smoe\"\n",
    "print(names)\n",
    "names.append(\"George Sau\")\n",
    "print(names)\n",
    "#When you put a . you can press tab to find out possible functions that you can use (can always press ?? for more info)\n",
    "names.insert(1,\"Luke Sky\")\n",
    "print(names)"
   ]
  },
  {
   "cell_type": "code",
   "execution_count": 18,
   "id": "b69c0af3",
   "metadata": {},
   "outputs": [
    {
     "data": {
      "text/plain": [
       "['Neil Armstrong',\n",
       " 'Luke Sky',\n",
       " 'Buzz Aldrin',\n",
       " 'Sally Ride',\n",
       " 'Yuri Gagarin',\n",
       " 'Joe Smoe',\n",
       " 'Joe Smoe',\n",
       " 'George Sau']"
      ]
     },
     "execution_count": 18,
     "metadata": {},
     "output_type": "execute_result"
    }
   ],
   "source": [
    "#Delete\n",
    "del names[-2]\n",
    "names"
   ]
  },
  {
   "cell_type": "markdown",
   "id": "effdbfc1",
   "metadata": {},
   "source": [
    "## 3. Dictionaries (In More Detail -> CRUD)"
   ]
  },
  {
   "cell_type": "code",
   "execution_count": 28,
   "id": "d433976e",
   "metadata": {},
   "outputs": [
    {
     "name": "stdout",
     "output_type": "stream",
     "text": [
      "dict_keys(['name', 'suit_size', 'allergies'])\n",
      "dict_values(['Joe Smoe', 'Medium', 'Peanuts'])\n"
     ]
    }
   ],
   "source": [
    "#Create\n",
    "astronaut = {\n",
    "    \"name\": \"Joe Smoe\",\n",
    "    \"suit_size\": \"Medium\",\n",
    "    \"allergies\": \"Peanuts\"\n",
    "}\n",
    "print(astronaut.keys())\n",
    "print(astronaut.values())"
   ]
  },
  {
   "cell_type": "code",
   "execution_count": null,
   "id": "9bfc5ab9",
   "metadata": {},
   "outputs": [],
   "source": [
    "#Read"
   ]
  },
  {
   "cell_type": "code",
   "execution_count": 21,
   "id": "598d8248",
   "metadata": {},
   "outputs": [
    {
     "data": {
      "text/plain": [
       "{'name': 'Joe Smoe', 'suit_size': 'Medium', 'allergies': 'Peanuts'}"
      ]
     },
     "execution_count": 21,
     "metadata": {},
     "output_type": "execute_result"
    }
   ],
   "source": [
    "astronaut"
   ]
  },
  {
   "cell_type": "code",
   "execution_count": 22,
   "id": "25f5c6e9",
   "metadata": {},
   "outputs": [
    {
     "data": {
      "text/plain": [
       "'Medium'"
      ]
     },
     "execution_count": 22,
     "metadata": {},
     "output_type": "execute_result"
    }
   ],
   "source": [
    "astronaut[\"suit_size\"]"
   ]
  },
  {
   "cell_type": "code",
   "execution_count": 23,
   "id": "77c9ebe4",
   "metadata": {},
   "outputs": [
    {
     "data": {
      "text/plain": [
       "'Peanuts'"
      ]
     },
     "execution_count": 23,
     "metadata": {},
     "output_type": "execute_result"
    }
   ],
   "source": [
    "astronaut[\"allergies\"]"
   ]
  },
  {
   "cell_type": "code",
   "execution_count": null,
   "id": "bf0783d3",
   "metadata": {},
   "outputs": [],
   "source": [
    "#Update"
   ]
  },
  {
   "cell_type": "code",
   "execution_count": 29,
   "id": "112983a4",
   "metadata": {},
   "outputs": [
    {
     "name": "stdout",
     "output_type": "stream",
     "text": [
      "{'name': 'Joe Smoe', 'suit_size': 'Medium', 'allergies': 'mango'}\n"
     ]
    }
   ],
   "source": [
    "#To update a value in a dictionary you need to look at the key \n",
    "astronaut[\"allergies\"] = \"mango\"\n",
    "print(astronaut)"
   ]
  },
  {
   "cell_type": "code",
   "execution_count": 30,
   "id": "5179612b",
   "metadata": {},
   "outputs": [
    {
     "data": {
      "text/plain": [
       "{'name': 'Joe Smoe',\n",
       " 'suit_size': 'Medium',\n",
       " 'allergies': 'mango',\n",
       " 'spaceship': 'Galactic1'}"
      ]
     },
     "execution_count": 30,
     "metadata": {},
     "output_type": "execute_result"
    }
   ],
   "source": [
    "#Making new key:value pairs\n",
    "astronaut[\"spaceship\"] = \"Galactic1\"\n",
    "astronaut"
   ]
  },
  {
   "cell_type": "code",
   "execution_count": null,
   "id": "5cc155c2",
   "metadata": {},
   "outputs": [],
   "source": [
    "#Delete"
   ]
  },
  {
   "cell_type": "code",
   "execution_count": 31,
   "id": "19518fa5",
   "metadata": {},
   "outputs": [
    {
     "data": {
      "text/plain": [
       "{'name': 'Joe Smoe', 'suit_size': 'Medium', 'allergies': 'mango'}"
      ]
     },
     "execution_count": 31,
     "metadata": {},
     "output_type": "execute_result"
    }
   ],
   "source": [
    "del astronaut[\"spaceship\"]\n",
    "astronaut"
   ]
  },
  {
   "cell_type": "code",
   "execution_count": null,
   "id": "0996a8a8",
   "metadata": {},
   "outputs": [],
   "source": []
  }
 ],
 "metadata": {
  "kernelspec": {
   "display_name": "Python 3 (ipykernel)",
   "language": "python",
   "name": "python3"
  },
  "language_info": {
   "codemirror_mode": {
    "name": "ipython",
    "version": 3
   },
   "file_extension": ".py",
   "mimetype": "text/x-python",
   "name": "python",
   "nbconvert_exporter": "python",
   "pygments_lexer": "ipython3",
   "version": "3.10.9"
  }
 },
 "nbformat": 4,
 "nbformat_minor": 5
}
