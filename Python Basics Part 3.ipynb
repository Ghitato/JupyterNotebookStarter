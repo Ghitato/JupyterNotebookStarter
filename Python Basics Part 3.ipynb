{
 "cells": [
  {
   "cell_type": "markdown",
   "id": "7a8cd1b1",
   "metadata": {},
   "source": [
    "# Python Basics Part 3"
   ]
  },
  {
   "cell_type": "markdown",
   "id": "a0a38545",
   "metadata": {},
   "source": [
    "## 1. Functions"
   ]
  },
  {
   "cell_type": "code",
   "execution_count": 5,
   "id": "02db8e5f",
   "metadata": {},
   "outputs": [
    {
     "name": "stdout",
     "output_type": "stream",
     "text": [
      "Hello, this function has been run 1 times\n",
      "Hello, this function has been run 2 times\n",
      "Hello, this function has been run 3 times\n",
      "Hello, this function has been run 4 times\n",
      "Hello, this function has been run 5 times\n"
     ]
    }
   ],
   "source": [
    "#Defining a function in Python (general recipe)\n",
    "def welcome_function(x):\n",
    "    print(\"Hello, this function has been run\", x + 1, \"times\")\n",
    "    \n",
    "for x in range(5):\n",
    "    welcome_function(x)"
   ]
  },
  {
   "cell_type": "code",
   "execution_count": 16,
   "id": "b75cf297",
   "metadata": {},
   "outputs": [
    {
     "name": "stdout",
     "output_type": "stream",
     "text": [
      "Welcom back Armstrong, Neil\n",
      "Welcom back Aldrin, Buzz\n",
      "Welcom back Ride, Sally\n",
      "Welcom back Gagarin, Yuri\n",
      "Welcom back Smoe, Joe\n"
     ]
    }
   ],
   "source": [
    "def welcome_astronauts(names):\n",
    "    for full_name in names:\n",
    "        # split the name into first and last name components\n",
    "        first, last = full_name.split(' ')\n",
    "        # print the last name first, followed by a comma and a space, then the first name\n",
    "        print(\"Welcom back\", last + ', ' + first)\n",
    "\n",
    "astronaut_names = [\"Neil Armstrong\", \"Buzz Aldrin\", \"Sally Ride\", \"Yuri Gagarin\", \"Joe Smoe\"]\n",
    "welcome_astronauts(astronaut_names)"
   ]
  },
  {
   "cell_type": "code",
   "execution_count": 22,
   "id": "605880f8",
   "metadata": {
    "scrolled": true
   },
   "outputs": [
    {
     "name": "stdout",
     "output_type": "stream",
     "text": [
      "Welcome, Neil Armstrong\n",
      "Welcome, Buzz Aldrin\n",
      "Welcome, Sally Ride\n",
      "Welcome, Yuri Gagarin\n",
      "Welcome, Joe Smoe\n"
     ]
    }
   ],
   "source": [
    "def other_welcome_astronauts(names):\n",
    "    print('Welcome, {}'.format(name))\n",
    "    \n",
    "for name in astronaut_names:\n",
    "    other_welcome_astronauts(astronaut_names)"
   ]
  },
  {
   "cell_type": "code",
   "execution_count": 40,
   "id": "45d15aea",
   "metadata": {},
   "outputs": [
    {
     "name": "stdout",
     "output_type": "stream",
     "text": [
      "Welcome Neil Armstrong to the Galactic 1 space ship\n",
      "Welcome Buzz Aldrin to the Galactic 2 space ship\n",
      "Welcome Sally Ride to the USS Voyager space ship\n",
      "Welcome Yuri Gagarin to the Maximum Amazin Wow Space Ship space ship\n",
      "Welcome Joe Smoe to the Apple iShip space ship\n"
     ]
    }
   ],
   "source": [
    "#Multiple positional Arguments - POSITION IS IMPORTANT\n",
    "space_ships = ['Galactic 1', 'Galactic 2', 'USS Voyager', 'Maximum Amazin Wow Space Ship', 'Apple iShip']\n",
    "\n",
    "def space_ship_welcome(name, ship):\n",
    "    print('Welcome {} to the {} space ship'.format(name, ship)) #The \"name\" and \"ship\" are the same down there\n",
    "\n",
    "#Use the enumerate function to get the positional index AND the name\n",
    "for index, name in enumerate(astronaut_names):\n",
    "    ship = space_ships[index]\n",
    "    space_ship_welcome(name, ship) #The \"name\" and \"ship\" are the same up here"
   ]
  },
  {
   "cell_type": "code",
   "execution_count": 26,
   "id": "d64a448b",
   "metadata": {},
   "outputs": [
    {
     "name": "stdout",
     "output_type": "stream",
     "text": [
      "Welcome aboard, Neil Armstrong! You are on the Galactic 1.\n",
      "Welcome aboard, Buzz Aldrin! You are on the Galactic 2.\n",
      "Welcome aboard, Sally Ride! You are on the USS Voyager.\n",
      "Welcome aboard, Yuri Gagarin! You are on the Maximum Amazin Wow Space Ship.\n",
      "Welcome aboard, Joe Smoe! You are on the Apple iShip.\n"
     ]
    }
   ],
   "source": [
    "def welcome_passengers(names, ships):\n",
    "    #for i in range(len(names)): <- Also works\n",
    "    for i, name in enumerate(names):\n",
    "        print(\"Welcome aboard, {}! You are on the {}.\".format(name, ships[i]))\n",
    "\n",
    "welcome_passengers(astronaut_names, space_ships)"
   ]
  },
  {
   "cell_type": "code",
   "execution_count": 2,
   "id": "26ac7d7a",
   "metadata": {},
   "outputs": [
    {
     "name": "stdout",
     "output_type": "stream",
     "text": [
      "Your spacesuit colour is Red\n",
      "Your spacesuit colour is blue\n"
     ]
    }
   ],
   "source": [
    "#Keyword arguments\n",
    "\n",
    "def suit_colour(colour = \"Blue\"):\n",
    "    print(\"Your spacesuit colour is {}\".format(colour))\n",
    "\n",
    "suit_colour(colour = \"Red\")\n",
    "suit_colour() #Uses the default value"
   ]
  },
  {
   "cell_type": "code",
   "execution_count": 4,
   "id": "fb3f5f1c",
   "metadata": {},
   "outputs": [
    {
     "name": "stdout",
     "output_type": "stream",
     "text": [
      "Welcome Joe, you are aboard the Enterprise ship. Your spacesuit colour is White\n"
     ]
    }
   ],
   "source": [
    "def space_suit_welcome(name, space_ship, colour = \"Blue\"):\n",
    "    print(\"Welcome {}, you are aboard the {} ship. Your spacesuit colour is {}\".format(name, space_ship, colour))\n",
    "    \n",
    "space_suit_welcome(\"Joe\", \"Enterprise\", colour = \"White\")"
   ]
  },
  {
   "cell_type": "code",
   "execution_count": 10,
   "id": "58adb74d",
   "metadata": {},
   "outputs": [
    {
     "name": "stdout",
     "output_type": "stream",
     "text": [
      "Welcome Joe, you are aboard the Enterprise ship. Your spacesuit colour is White\n"
     ]
    }
   ],
   "source": [
    "def space_suit_welcome_with_return(name, space_ship, colour = \"Blue\"):\n",
    "    return \"Welcome {}, you are aboard the {} ship. Your spacesuit colour is {}\".format(name, space_ship, colour)\n",
    "    \n",
    "welcome1 = space_suit_welcome_with_return(\"Joe\", \"Enterprise\", colour = \"White\")\n",
    "print(welcome1)"
   ]
  },
  {
   "cell_type": "code",
   "execution_count": 13,
   "id": "87193ad3",
   "metadata": {},
   "outputs": [
    {
     "ename": "SyntaxError",
     "evalue": "invalid syntax (4008024105.py, line 9)",
     "output_type": "error",
     "traceback": [
      "\u001b[0;36m  Cell \u001b[0;32mIn[13], line 9\u001b[0;36m\u001b[0m\n\u001b[0;31m    pi = lambda x:\u001b[0m\n\u001b[0m                   ^\u001b[0m\n\u001b[0;31mSyntaxError\u001b[0m\u001b[0;31m:\u001b[0m invalid syntax\n"
     ]
    }
   ],
   "source": [
    "#lambda function (should be one line for syntax)\n",
    "square = lambda x: x**2 #x is the argument or the variable and then we return it\n",
    "print(square(5))\n",
    "\n",
    "numbers = [1, 2, 3, 4, 5]\n",
    "squares = map(lambda x: x**2, numbers) \n",
    "print(list(squares)) \n",
    "\n",
    "pi = lambda x: x*3.14\n",
    "print(pi(2))"
   ]
  },
  {
   "cell_type": "code",
   "execution_count": null,
   "id": "eafee2e1",
   "metadata": {},
   "outputs": [],
   "source": []
  },
  {
   "cell_type": "code",
   "execution_count": null,
   "id": "6561514a",
   "metadata": {},
   "outputs": [],
   "source": []
  },
  {
   "cell_type": "code",
   "execution_count": null,
   "id": "57828503",
   "metadata": {},
   "outputs": [],
   "source": []
  },
  {
   "cell_type": "code",
   "execution_count": null,
   "id": "0a1afcda",
   "metadata": {},
   "outputs": [],
   "source": []
  },
  {
   "cell_type": "code",
   "execution_count": null,
   "id": "2603acaf",
   "metadata": {},
   "outputs": [],
   "source": []
  }
 ],
 "metadata": {
  "kernelspec": {
   "display_name": "Python 3 (ipykernel)",
   "language": "python",
   "name": "python3"
  },
  "language_info": {
   "codemirror_mode": {
    "name": "ipython",
    "version": 3
   },
   "file_extension": ".py",
   "mimetype": "text/x-python",
   "name": "python",
   "nbconvert_exporter": "python",
   "pygments_lexer": "ipython3",
   "version": "3.10.9"
  }
 },
 "nbformat": 4,
 "nbformat_minor": 5
}
