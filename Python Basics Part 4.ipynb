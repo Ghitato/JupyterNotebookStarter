{
 "cells": [
  {
   "cell_type": "markdown",
   "id": "40c84fe1",
   "metadata": {},
   "source": [
    "# Python Basics Part 4"
   ]
  },
  {
   "cell_type": "markdown",
   "id": "fd2251f2",
   "metadata": {},
   "source": [
    "## 1. Classes"
   ]
  },
  {
   "cell_type": "code",
   "execution_count": 2,
   "id": "dfa88cfa",
   "metadata": {},
   "outputs": [],
   "source": [
    "#Classes as boilerplate for objects\n",
    "#For the example of class inheritance this will be the Parent class\n",
    "class Person():\n",
    "    #The method that runs as soon as you create a class = initialise\n",
    "    def __init__(self, age, name, fav_colour): #self --> pass this instance of this class to this __init__ function\n",
    "        #Create some attributes for our person class\n",
    "        #The way to create an attribute is to specify self and the name that you want that attribute to be (self.name)\n",
    "        # you then set it equal to argument that we are getting from our __init__ method\n",
    "        self.age = age #By setting age to self.age we are allowing it to be used by \"self\" across the class\n",
    "        self.name = name\n",
    "        self.fav_colour = fav_colour\n",
    "        \n",
    "    #Date of birth method\n",
    "    def year_of_birth(self): #By passing in self, this method has access to self.x\n",
    "        return 2021 - self.age\n",
    "    \n",
    "    #Projected age\n",
    "    def projected_age(self, years = 5): #Pass in self AND take in a value \n",
    "        return self.age + years\n",
    "        "
   ]
  },
  {
   "cell_type": "code",
   "execution_count": 3,
   "id": "f8dc6590",
   "metadata": {},
   "outputs": [],
   "source": [
    "new_person = Person(23, \"Joe\", \"Red\")"
   ]
  },
  {
   "cell_type": "code",
   "execution_count": 10,
   "id": "dfae320b",
   "metadata": {},
   "outputs": [
    {
     "name": "stdout",
     "output_type": "stream",
     "text": [
      "Joe\n",
      "1998\n",
      "33\n"
     ]
    }
   ],
   "source": [
    "#Accessing a class attribute\n",
    "print(new_person.name)\n",
    "#Running a method\n",
    "print(new_person.year_of_birth())\n",
    "#Running a method with a keyword argument\n",
    "print(new_person.projected_age(years = 10))"
   ]
  },
  {
   "cell_type": "markdown",
   "id": "a46520fb",
   "metadata": {},
   "source": [
    "## 2. Class Inheritance"
   ]
  },
  {
   "cell_type": "code",
   "execution_count": 32,
   "id": "f4023222",
   "metadata": {},
   "outputs": [],
   "source": [
    "#Parent: Is the class passing down attributes and methods (ex. Person)\n",
    "#Child: Is the class inherting from Parent (ex. Astronaut)\n",
    "class Astronaut(Person):\n",
    "    def __init__(self, age, name, fav_colour, suit, mission_length_in_months):\n",
    "        #This is what gives us inheritance\n",
    "        super().__init__(age, name, fav_colour) #We need to specify what to inherit from Person with super().__init__\n",
    "        self.suit = suit\n",
    "        self.mission_length_in_months = mission_length_in_months\n",
    "        \n",
    "    def age_on_return(self):\n",
    "        return self.age + (self.mission_length_in_months/12)\n",
    "    \n",
    "    def age_on_return_inherited(self):\n",
    "        return self.projected_age(years = int(self.mission_length_in_months/12))"
   ]
  },
  {
   "cell_type": "code",
   "execution_count": 39,
   "id": "e222c7a9",
   "metadata": {},
   "outputs": [],
   "source": [
    "new_astronaut = Astronaut(35, \"Joey\", \"Carmine Red\", \"Large\", 32)"
   ]
  },
  {
   "cell_type": "code",
   "execution_count": 40,
   "id": "62fbbe8d",
   "metadata": {},
   "outputs": [
    {
     "name": "stdout",
     "output_type": "stream",
     "text": [
      "1986\n",
      "37.666666666666664\n",
      "37\n"
     ]
    }
   ],
   "source": [
    "print(new_astronaut.year_of_birth())\n",
    "print(new_astronaut.age_on_return())\n",
    "print(new_astronaut.age_on_return_inherited())"
   ]
  },
  {
   "cell_type": "code",
   "execution_count": null,
   "id": "6f6f1d96",
   "metadata": {},
   "outputs": [],
   "source": []
  },
  {
   "cell_type": "code",
   "execution_count": null,
   "id": "ddb30bdd",
   "metadata": {},
   "outputs": [],
   "source": []
  },
  {
   "cell_type": "code",
   "execution_count": null,
   "id": "1f18deb9",
   "metadata": {},
   "outputs": [],
   "source": []
  }
 ],
 "metadata": {
  "kernelspec": {
   "display_name": "Python 3 (ipykernel)",
   "language": "python",
   "name": "python3"
  },
  "language_info": {
   "codemirror_mode": {
    "name": "ipython",
    "version": 3
   },
   "file_extension": ".py",
   "mimetype": "text/x-python",
   "name": "python",
   "nbconvert_exporter": "python",
   "pygments_lexer": "ipython3",
   "version": "3.10.9"
  }
 },
 "nbformat": 4,
 "nbformat_minor": 5
}
